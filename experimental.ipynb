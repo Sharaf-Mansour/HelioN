{
 "cells": [
  {
   "cell_type": "code",
   "execution_count": null,
   "id": "90ee4193-6bd4-4627-b70b-2714a525f770",
   "metadata": {},
   "outputs": [],
   "source": [
    "from statsforecast import StatsForecast\n",
    "from statsforecast.models import AutoARIMA, ARIMA\n",
    "import statsmodels.api as sm\n",
    "import pandas as pd\n",
    "import os\n",
    "from xgboost.sklearn import XGBRegressor\n",
    "import numpy as np\n",
    "import xgboost as xgb\n",
    "from xgboost.sklearn import XGBClassifier\n",
    "from sklearn import metrics  \n",
    "from sklearn.model_selection import GridSearchCV , TimeSeriesSplit\n",
    "import matplotlib.pylab as plt\n",
    "import pandas as pd\n"
   ]
  },
  {
   "cell_type": "code",
   "execution_count": null,
   "id": "1963a588-3b1f-468f-9240-aef02aae15c8",
   "metadata": {},
   "outputs": [],
   "source": [
    "from sklearn.metrics import mean_squared_error"
   ]
  },
  {
   "cell_type": "code",
   "execution_count": null,
   "id": "423c91b1-6c39-4875-87d2-55f8896f3521",
   "metadata": {},
   "outputs": [],
   "source": [
    "def create_features(df):\n",
    "    \"\"\"\n",
    "    Create time series features based on time series index.\n",
    "    \"\"\"\n",
    "    df = df.copy()\n",
    "    df['hour'] = df.index.hour\n",
    "    df['dayofweek'] = df.index.dayofweek\n",
    "    df['quarter'] = df.index.quarter\n",
    "    df['month'] = df.index.month\n",
    "    df['year'] = df.index.year\n",
    "    df['dayofyear'] = df.index.dayofyear\n",
    "    df['dayofmonth'] = df.index.day\n",
    "    df['weekofyear'] = df.index.isocalendar().week\n",
    "    return df"
   ]
  },
  {
   "cell_type": "code",
   "execution_count": null,
   "id": "f2c8f636-f478-4f25-abaa-e2fb97ee3616",
   "metadata": {},
   "outputs": [],
   "source": [
    "# dummy= xr.open_dataset(r\"C:\\nasa_comp_data_un\\oe_fc1_dscovr_s20230930000000_e20230930235959_p20231001022611_pub.nc\" )\n",
    "\n",
    "# dummy = dummy.to_dataframe()\n",
    "\n",
    "# dummy= dummy.resample('T').mean()\n",
    "\n",
    "# dummy.reset_index(inplace= True)\n",
    "# original = pd.DataFrame(columns = dummy.columns)\n",
    "\n",
    "# directory = \"C:\\\\nasa_comp_data_un\"\n",
    "\n",
    "# for i, filename in enumerate( os.listdir(directory)):\n",
    "#     if filename.endswith(\".nc\"):\n",
    "#         filepath=os.path.join(directory,filename)\n",
    "#         print(f\"opnening file: {filepath}\")\n",
    "#         xr_df= xr.open_dataset(filepath)\n",
    "#         new_df = xr_df.to_dataframe()\n",
    "#         new_df = new_df.fillna()\n",
    "#         new_df= new_df.resample('T').mean()\n",
    "#         new_df.reset_index(inplace=True)\n",
    "#         dfs.append(new_df)\n",
    "#         print(f\"finished {i}/2619\")"
   ]
  },
  {
   "cell_type": "code",
   "execution_count": null,
   "id": "9c3013f8-1f85-4ff1-a935-459567c2c836",
   "metadata": {},
   "outputs": [],
   "source": [
    "original = pd.read_csv(r\"dataframe_all.csv\",parse_dates=[\"time\"])\n",
    "original.set_index(\"time\",inplace=True)\n",
    "original.sort_index(inplace=True)\n",
    "\n",
    "# number of nan rows in each column \n",
    "\n",
    "indicies = list(original.columns[0:9])\n",
    "\n",
    "# data without flags and alpha values that are all NAN\n",
    "data_nok = original[indicies]\n",
    "data_nok.head()\n",
    "\n",
    "# read k-indicies\n",
    "k_index = pd.read_csv(r\"Kpfrom2016.csv\" , parse_dates=[\"time\"] , index_col = \"time\")\n",
    "\n",
    "data_nok.reset_index(inplace=True)\n",
    "k_index.reset_index(inplace=True)\n",
    "\n",
    "mereged =  pd.merge(data_nok , k_index, on='time', how='left')\n",
    "mereged.set_index(\"time\" , inplace=True)\n",
    "mereged.drop_duplicates(keep=\"first\",inplace=True)\n",
    "mereged = create_features(mereged)\n",
    "del(data_nok)\n",
    "del(original)\n",
    "del(k_index)"
   ]
  },
  {
   "cell_type": "code",
   "execution_count": null,
   "id": "771758f1-6638-4e17-8f38-4854ed59e3fd",
   "metadata": {},
   "outputs": [],
   "source": [
    " merged = pd.read_csv(r\"merged_without_ffill.csv\" , parse_dates = [\"time\"] , index_col=\"time\")"
   ]
  },
  {
   "cell_type": "code",
   "execution_count": null,
   "id": "af7f643f-ba05-4507-9b93-2521f38db199",
   "metadata": {},
   "outputs": [],
   "source": [
    "merged.K= merged.K.ffill()\n",
    "# mereged.to_csv(\"merged_ffill.csv\")"
   ]
  },
  {
   "cell_type": "code",
   "execution_count": null,
   "id": "584f2147-bccb-4e36-8162-9b15a9fa2e80",
   "metadata": {},
   "outputs": [],
   "source": [
    "# model = sm.tsa.SARIMAX(data_smooth, order=(2,1,1), seasonal_order=(1,0,1,7))\n",
    "# results = model.fit()\n",
    "# aic=results.aic\n",
    "# print('AIC: ',aic)"
   ]
  },
  {
   "cell_type": "code",
   "execution_count": null,
   "id": "4b882e65-e893-4951-a6bc-e37fcb8e7b3a",
   "metadata": {},
   "outputs": [],
   "source": [
    "def modelfit(alg, dtrain, predictors,useTrainCV=True, cv_folds=5, early_stopping_rounds=50):\n",
    "    \n",
    "    if useTrainCV:\n",
    "        xgb_param = alg.get_xgb_params()\n",
    "        xgtrain = xgb.DMatrix(dtrain[predictors].values, label=dtrain[target].values)\n",
    "        cvresult = xgb.cv(xgb_param, xgtrain, num_boost_round=alg.get_params()['n_estimators'], nfold=cv_folds,\n",
    "            metrics='auc', early_stopping_rounds=early_stopping_rounds)\n",
    "        alg.set_params(n_estimators=cvresult.shape[0])\n",
    "    \n",
    "    #Fit the algorithm on the data\n",
    "    alg.fit(dtrain[predictors], dtrain['Disbursed'],eval_metric='auc')\n",
    "        \n",
    "    #Predict training set:\n",
    "    dtrain_predictions = alg.predict(dtrain[predictors])\n",
    "    dtrain_predprob = alg.predict_proba(dtrain[predictors])[:,1]\n",
    "        \n",
    "    #Print model report:\n",
    "    print (\"\\nModel Report\")\n",
    "    print( \"Accuracy : %.4g\" % metrics.accuracy_score(dtrain['Disbursed'].values, dtrain_predictions))\n",
    "    print (\"AUC Score (Train): %f\" % metrics.roc_auc_score(dtrain['Disbursed'], dtrain_predprob))\n",
    "                    \n",
    "    feat_imp = pd.Series(alg.booster().get_fscore()).sort_values(ascending=False)\n",
    "    feat_imp.plot(kind='bar', title='Feature Importances')\n",
    "    plt.ylabel('Feature Importance Score')"
   ]
  },
  {
   "cell_type": "code",
   "execution_count": null,
   "id": "d58e1e88-0dd4-4390-afae-849bc79d1d2c",
   "metadata": {},
   "outputs": [],
   "source": [
    "sf = StatsForecast(\n",
    "    models = [AutoARIMA()],\n",
    "    freq = 'T',\n",
    "    df=test_arima.dropna(),\n",
    "    n_jobs=-1,\n",
    ")\n",
    "res= sf.fit()\n",
    "\n",
    "preds = res.predict(h=60, level=[90])\n",
    "preds = preds.reset_index().set_index(\"ds\")\n",
    "preds.drop(\"unique_id\",axis=1, inplace = True)\n",
    "\n",
    "plt.plot( mereged.loc[\"2017-01-01 00\"][\"proton_vx_gsm\"].index,mereged.loc[\"2017-01-01 00\"][\"proton_vx_gsm\"] , preds[\"AutoARIMA-hi-90\"]) "
   ]
  },
  {
   "cell_type": "code",
   "execution_count": null,
   "id": "9bf4d819-d0c5-4d2e-88f0-5d6d9b38606d",
   "metadata": {},
   "outputs": [],
   "source": [
    "clean_data = mereged.loc[\"2017\":\"2018\"]\n",
    "clean_data[\"weekofyear\"] =clean_data[\"weekofyear\"].astype(int) "
   ]
  },
  {
   "cell_type": "code",
   "execution_count": null,
   "id": "e2230383-ec14-4c20-bf6b-f8c406afc448",
   "metadata": {},
   "outputs": [],
   "source": [
    "clean_data_train\n",
    "clean_data_train.dropna(inplace=True)"
   ]
  },
  {
   "cell_type": "code",
   "execution_count": null,
   "id": "026c00cb-6b6d-4630-840c-83318030360e",
   "metadata": {},
   "outputs": [],
   "source": [
    "clean_data[\"K\"] = clean_data[\"K\"].ffill()"
   ]
  },
  {
   "cell_type": "code",
   "execution_count": null,
   "id": "0b645cec-7249-4109-82e7-3e7cb1c10f5d",
   "metadata": {},
   "outputs": [],
   "source": [
    "clean_data_train=clean_data.iloc[0:int(len(clean_data)*0.9)]"
   ]
  },
  {
   "cell_type": "code",
   "execution_count": null,
   "id": "6c3d0510-bf3b-426b-952c-07e061a92530",
   "metadata": {},
   "outputs": [],
   "source": [
    "def create_lag_features(data, n_lags,col):\n",
    "    for i in range(1, n_lags+1):\n",
    "        data_frameb[f'lag_{i}'] = data[col].shift(i)"
   ]
  },
  {
   "cell_type": "code",
   "execution_count": null,
   "id": "e54da22f-dfb3-4cc5-824a-e3d10897222a",
   "metadata": {},
   "outputs": [],
   "source": [
    "corr_map= clean_data_train.corr() \n",
    "target = [\"proton_vx_gse\", \"proton_vx_gsm\",\"proton_speed\"]\n",
    "features= [x for x in clean_data_train.columns if x not in target ]"
   ]
  },
  {
   "cell_type": "code",
   "execution_count": null,
   "id": "522b59aa-b6f2-4cca-bf5b-7de787cb1708",
   "metadata": {},
   "outputs": [],
   "source": [
    "from sklearn.model_selection import GridSearchCV\n",
    "import time \n",
    "start = time.time()\n",
    "param_dist = {\n",
    "    'learning_rate': [0.01, 0.1],\n",
    "    'max_depth':[5,9],\n",
    "    'min_child_weight': [5,10],\n",
    "    'reg_lambda': [ 1e-2, 0.1],\n",
    "    'reg_alpha': [ 1e-2, 0.1]\n",
    "}\n",
    "\n",
    "x_search , y_search = clean_data_train[features].loc[\"2017-06\":\"2017-08\"], clean_data_train[target].loc[\"2017-06\":\"2017-08\"]\n",
    "model = xgb.XGBRegressor(tree_method = \"hist\", device = \"cuda\" )\n",
    "print (\"start searhing\")\n",
    "random_search = GridSearchCV(model, param_grid=param_dist, scoring='neg_root_mean_squared_error', cv=5, verbose=5, n_jobs=-1)\n",
    "print(\"model fitting...\")\n",
    "random_search.fit(x_search , y_search)\n",
    "print (\"finished searhing\")\n",
    "end = time.time()\n",
    "print(random_search.best_params_)"
   ]
  },
  {
   "cell_type": "code",
   "execution_count": null,
   "id": "18da30c2-aa00-44a0-8435-7686bbec6561",
   "metadata": {},
   "outputs": [],
   "source": [
    "best_params = random_search.best_params_"
   ]
  },
  {
   "cell_type": "code",
   "execution_count": null,
   "id": "3eb56f6d-839f-4e99-a32b-fa3d3f1c0f15",
   "metadata": {},
   "outputs": [],
   "source": [
    "random_search.best_score_"
   ]
  },
  {
   "cell_type": "code",
   "execution_count": null,
   "id": "f72755bb-05fe-4df7-b645-0846531ad34e",
   "metadata": {},
   "outputs": [],
   "source": [
    "from sklearn.model_selection import TimeSeriesSplit\n",
    "\n",
    "tss  = TimeSeriesSplit(n_splits = 6 , test_size= 24*120)\n",
    "clean_data_train = clean_data_train.sort_index()\n",
    "\n",
    "fold = 0\n",
    "preds = []\n",
    "scores = []\n",
    "for train_idx, val_idx in tss.split(clean_data_train.dropna()):\n",
    "    train = clean_data_train.iloc[train_idx]\n",
    "    test = clean_data_train.iloc[val_idx]\n",
    "\n",
    "\n",
    "    FEATURES = features\n",
    "    TARGET = target\n",
    "\n",
    "    X_train = train[FEATURES]\n",
    "    y_train = train[TARGET]\n",
    "\n",
    "    X_test = test[FEATURES]\n",
    "    y_test = test[TARGET]\n",
    "\n",
    "    reg = xgb.XGBRegressor(**best_params, tree_method = \"hist\", device = \"cuda\")\n",
    "    reg.fit(X_train, y_train,\n",
    "            eval_set=[(X_train, y_train), (X_test, y_test)],\n",
    "            verbose=100)\n",
    "\n",
    "    y_pred = reg.predict(X_test)\n",
    "    preds.append(y_pred)\n",
    "    score = np.sqrt(mean_squared_error(y_test, y_pred))\n",
    "    scores.append(score)"
   ]
  },
  {
   "cell_type": "code",
   "execution_count": null,
   "id": "8e985e61-52ff-4e96-b3a7-c7667b2d37f2",
   "metadata": {},
   "outputs": [],
   "source": [
    "reg = xgb.XGBRegressor(**best_params, tree_method = \"hist\", device = \"cuda\")\n",
    "reg.fit(clean_data_train.dropna()[features],clean_data_train.dropna()[target],\n",
    "            eval_set=[(clean_data_train.dropna()[features],clean_data_train.dropna()[target])],\n",
    "            verbose=100 , )"
   ]
  },
  {
   "cell_type": "code",
   "execution_count": null,
   "id": "a2860d46-d866-4e5d-9f92-0f5b23079655",
   "metadata": {},
   "outputs": [],
   "source": [
    "pd.DataFrame([reg.feature_importances_],columns=reg.feature_names_in_)"
   ]
  },
  {
   "cell_type": "code",
   "execution_count": null,
   "id": "f893b944-f719-44c1-9e0e-7b6d5ae21a23",
   "metadata": {},
   "outputs": [],
   "source": [
    "y_pred_best = best_xgb_model.predict()"
   ]
  },
  {
   "cell_type": "code",
   "execution_count": null,
   "id": "62fe8fce-0082-45f4-9157-84060dbdeb0a",
   "metadata": {},
   "outputs": [],
   "source": [
    "x_test = clean_data.loc[\"2018-10-19 01:30:00\":\"2018-10-19 02:00:00\"][features] "
   ]
  },
  {
   "cell_type": "code",
   "execution_count": null,
   "id": "317addda-f276-4689-a151-b8573724e960",
   "metadata": {},
   "outputs": [],
   "source": [
    "y_test = clean_data.loc[\"2018-10-19 01:30:00\":\"2018-10-19 02:00:00\"][target] "
   ]
  },
  {
   "cell_type": "code",
   "execution_count": null,
   "id": "8879b681-af12-4de7-b292-163f3ff39d9e",
   "metadata": {},
   "outputs": [],
   "source": [
    "y_pred = pd.DataFrame(reg.predict(x_test), index = x_test.index , columns = target)"
   ]
  },
  {
   "cell_type": "code",
   "execution_count": null,
   "id": "f977735c-0b43-4f40-be5e-76ad3dc648d5",
   "metadata": {},
   "outputs": [],
   "source": [
    "def make_stats(df,i,col): \n",
    "    return pd.DataFrame({\"unique_id\":1 , \"ds\":df.index , \"y\": df[col]})\n",
    "    "
   ]
  },
  {
   "cell_type": "code",
   "execution_count": null,
   "id": "9a4dd765-524b-4ef2-91d5-102c6fd0c86c",
   "metadata": {},
   "outputs": [],
   "source": [
    "reg.save_model(\"model.json\")"
   ]
  },
  {
   "cell_type": "code",
   "execution_count": null,
   "id": "382441a7-25dc-4974-8615-c384e79c2e43",
   "metadata": {},
   "outputs": [],
   "source": [
    "sf = StatsForecast(\n",
    "    models = [AutoARIMA()],\n",
    "    freq = 'T',\n",
    "    df=test_arima.dropna(),\n",
    "    n_jobs=-1,\n",
    ")\n",
    "res= sf.fit()\n",
    "\n",
    "preds = res.predict(h=60, level=[90])\n",
    "preds = preds.reset_index().set_index(\"ds\")\n",
    "preds.drop(\"unique_id\",axis=1, inplace = True)\n",
    "\n",
    "plt.plot( mereged.loc[\"2017-01-01 00\"][\"proton_vx_gsm\"].index,mereged.loc[\"2017-01-01 00\"][\"proton_vx_gsm\"] , preds[\"AutoARIMA-hi-90\"]) "
   ]
  },
  {
   "cell_type": "code",
   "execution_count": null,
   "id": "643837b8-8d51-4798-93be-5420fb05eec7",
   "metadata": {},
   "outputs": [],
   "source": [
    "sf = StatsForecast(\n",
    "    models = [AutoARIMA()],\n",
    "    freq = 'T',\n",
    "    df=make_stats(clean_data.dropna() , 1 , \"proton_vx_gsm\"),\n",
    "    n_jobs=-1,\n",
    ")\n",
    "\n",
    "# preds = res.predict(h=60, level=[90])\n",
    "# preds = preds.reset_index().iset_index(\"ds\")\n"
   ]
  },
  {
   "cell_type": "code",
   "execution_count": null,
   "id": "fcb76452-66af-40bc-b622-4f98a1982d1a",
   "metadata": {},
   "outputs": [],
   "source": [
    "res= sf.fit()"
   ]
  },
  {
   "cell_type": "code",
   "execution_count": null,
   "id": "5161d79c-a083-4975-a64e-88debce34e3c",
   "metadata": {},
   "outputs": [],
   "source": [
    "res.get_fitted_param_()"
   ]
  },
  {
   "cell_type": "code",
   "execution_count": null,
   "id": "694d7991-af93-4990-bb0e-a8925a5b0155",
   "metadata": {},
   "outputs": [],
   "source": [
    "maskforc = clean_data.any(axis=1)"
   ]
  },
  {
   "cell_type": "code",
   "execution_count": null,
   "id": "db8e4921-7b38-42df-8378-5df0f5132a03",
   "metadata": {},
   "outputs": [],
   "source": [
    "for i in clean_data.columns : \n",
    "    clean_data[i] = clean_data[i].ffill()\n"
   ]
  },
  {
   "cell_type": "code",
   "execution_count": null,
   "id": "8866da67-8fe8-4b1c-977c-944af981834b",
   "metadata": {},
   "outputs": [],
   "source": [
    "t = clean_data.apply(lambda x :0  if x.empty else 1 ,axis = 1  )"
   ]
  },
  {
   "cell_type": "code",
   "execution_count": 24,
   "id": "2500ac6d-848d-4674-bbc0-202aee373a79",
   "metadata": {},
   "outputs": [
    {
     "ename": "NameError",
     "evalue": "name 'sf' is not defined",
     "output_type": "error",
     "traceback": [
      "\u001b[1;31m---------------------------------------------------------------------------\u001b[0m",
      "\u001b[1;31mNameError\u001b[0m                                 Traceback (most recent call last)",
      "Cell \u001b[1;32mIn[24], line 1\u001b[0m\n\u001b[1;32m----> 1\u001b[0m \u001b[43msf\u001b[49m\u001b[38;5;241m.\u001b[39mfitted_[\u001b[38;5;241m0\u001b[39m][\u001b[38;5;241m0\u001b[39m]\u001b[38;5;241m.\u001b[39mmodel_\n",
      "\u001b[1;31mNameError\u001b[0m: name 'sf' is not defined"
     ]
    }
   ],
   "source": [
    "sf.fitted_[0][0].model_"
   ]
  },
  {
   "cell_type": "code",
   "execution_count": 41,
   "id": "8e06eddb-fe8d-488b-99a7-f34d7bb832cd",
   "metadata": {},
   "outputs": [
    {
     "ename": "MemoryError",
     "evalue": "Unable to allocate 856. MiB for an array with shape (110, 1019443) and data type float64",
     "output_type": "error",
     "traceback": [
      "\u001b[1;31m---------------------------------------------------------------------------\u001b[0m",
      "\u001b[1;31mMemoryError\u001b[0m                               Traceback (most recent call last)",
      "Cell \u001b[1;32mIn[41], line 2\u001b[0m\n\u001b[0;32m      1\u001b[0m \u001b[38;5;28;01mfrom\u001b[39;00m \u001b[38;5;21;01mstatsmodels\u001b[39;00m\u001b[38;5;21;01m.\u001b[39;00m\u001b[38;5;21;01mtsa\u001b[39;00m\u001b[38;5;21;01m.\u001b[39;00m\u001b[38;5;21;01mstattools\u001b[39;00m \u001b[38;5;28;01mimport\u001b[39;00m adfuller\n\u001b[1;32m----> 2\u001b[0m \u001b[43madfuller\u001b[49m\u001b[43m(\u001b[49m\u001b[43mclean_data\u001b[49m\u001b[43m[\u001b[49m\u001b[38;5;124;43m\"\u001b[39;49m\u001b[38;5;124;43mproton_vx_gse\u001b[39;49m\u001b[38;5;124;43m\"\u001b[39;49m\u001b[43m]\u001b[49m\u001b[38;5;241;43m.\u001b[39;49m\u001b[43mdropna\u001b[49m\u001b[43m(\u001b[49m\u001b[43m)\u001b[49m\u001b[43m)\u001b[49m\n",
      "File \u001b[1;32m~\\anaconda3\\lib\\site-packages\\statsmodels\\tsa\\stattools.py:321\u001b[0m, in \u001b[0;36madfuller\u001b[1;34m(x, maxlag, regression, autolag, store, regresults)\u001b[0m\n\u001b[0;32m    315\u001b[0m \u001b[38;5;66;03m# 1 for level\u001b[39;00m\n\u001b[0;32m    316\u001b[0m \u001b[38;5;66;03m# search for lag length with smallest information criteria\u001b[39;00m\n\u001b[0;32m    317\u001b[0m \u001b[38;5;66;03m# Note: use the same number of observations to have comparable IC\u001b[39;00m\n\u001b[0;32m    318\u001b[0m \u001b[38;5;66;03m# aic and bic: smaller is better\u001b[39;00m\n\u001b[0;32m    320\u001b[0m \u001b[38;5;28;01mif\u001b[39;00m \u001b[38;5;129;01mnot\u001b[39;00m regresults:\n\u001b[1;32m--> 321\u001b[0m     icbest, bestlag \u001b[38;5;241m=\u001b[39m \u001b[43m_autolag\u001b[49m\u001b[43m(\u001b[49m\n\u001b[0;32m    322\u001b[0m \u001b[43m        \u001b[49m\u001b[43mOLS\u001b[49m\u001b[43m,\u001b[49m\u001b[43m \u001b[49m\u001b[43mxdshort\u001b[49m\u001b[43m,\u001b[49m\u001b[43m \u001b[49m\u001b[43mfullRHS\u001b[49m\u001b[43m,\u001b[49m\u001b[43m \u001b[49m\u001b[43mstartlag\u001b[49m\u001b[43m,\u001b[49m\u001b[43m \u001b[49m\u001b[43mmaxlag\u001b[49m\u001b[43m,\u001b[49m\u001b[43m \u001b[49m\u001b[43mautolag\u001b[49m\n\u001b[0;32m    323\u001b[0m \u001b[43m    \u001b[49m\u001b[43m)\u001b[49m\n\u001b[0;32m    324\u001b[0m \u001b[38;5;28;01melse\u001b[39;00m:\n\u001b[0;32m    325\u001b[0m     icbest, bestlag, alres \u001b[38;5;241m=\u001b[39m _autolag(\n\u001b[0;32m    326\u001b[0m         OLS,\n\u001b[0;32m    327\u001b[0m         xdshort,\n\u001b[1;32m   (...)\u001b[0m\n\u001b[0;32m    332\u001b[0m         regresults\u001b[38;5;241m=\u001b[39mregresults,\n\u001b[0;32m    333\u001b[0m     )\n",
      "File \u001b[1;32m~\\anaconda3\\lib\\site-packages\\statsmodels\\tsa\\stattools.py:130\u001b[0m, in \u001b[0;36m_autolag\u001b[1;34m(mod, endog, exog, startlag, maxlag, method, modargs, fitargs, regresults)\u001b[0m\n\u001b[0;32m    128\u001b[0m \u001b[38;5;28;01mfor\u001b[39;00m lag \u001b[38;5;129;01min\u001b[39;00m \u001b[38;5;28mrange\u001b[39m(startlag, startlag \u001b[38;5;241m+\u001b[39m maxlag \u001b[38;5;241m+\u001b[39m \u001b[38;5;241m1\u001b[39m):\n\u001b[0;32m    129\u001b[0m     mod_instance \u001b[38;5;241m=\u001b[39m mod(endog, exog[:, :lag], \u001b[38;5;241m*\u001b[39mmodargs)\n\u001b[1;32m--> 130\u001b[0m     results[lag] \u001b[38;5;241m=\u001b[39m \u001b[43mmod_instance\u001b[49m\u001b[38;5;241;43m.\u001b[39;49m\u001b[43mfit\u001b[49m\u001b[43m(\u001b[49m\u001b[43m)\u001b[49m\n\u001b[0;32m    132\u001b[0m \u001b[38;5;28;01mif\u001b[39;00m method \u001b[38;5;241m==\u001b[39m \u001b[38;5;124m\"\u001b[39m\u001b[38;5;124maic\u001b[39m\u001b[38;5;124m\"\u001b[39m:\n\u001b[0;32m    133\u001b[0m     icbest, bestlag \u001b[38;5;241m=\u001b[39m \u001b[38;5;28mmin\u001b[39m((v\u001b[38;5;241m.\u001b[39maic, k) \u001b[38;5;28;01mfor\u001b[39;00m k, v \u001b[38;5;129;01min\u001b[39;00m results\u001b[38;5;241m.\u001b[39mitems())\n",
      "File \u001b[1;32m~\\anaconda3\\lib\\site-packages\\statsmodels\\regression\\linear_model.py:322\u001b[0m, in \u001b[0;36mRegressionModel.fit\u001b[1;34m(self, method, cov_type, cov_kwds, use_t, **kwargs)\u001b[0m\n\u001b[0;32m    317\u001b[0m \u001b[38;5;28;01mif\u001b[39;00m method \u001b[38;5;241m==\u001b[39m \u001b[38;5;124m\"\u001b[39m\u001b[38;5;124mpinv\u001b[39m\u001b[38;5;124m\"\u001b[39m:\n\u001b[0;32m    318\u001b[0m     \u001b[38;5;28;01mif\u001b[39;00m \u001b[38;5;129;01mnot\u001b[39;00m (\u001b[38;5;28mhasattr\u001b[39m(\u001b[38;5;28mself\u001b[39m, \u001b[38;5;124m'\u001b[39m\u001b[38;5;124mpinv_wexog\u001b[39m\u001b[38;5;124m'\u001b[39m) \u001b[38;5;129;01mand\u001b[39;00m\n\u001b[0;32m    319\u001b[0m             \u001b[38;5;28mhasattr\u001b[39m(\u001b[38;5;28mself\u001b[39m, \u001b[38;5;124m'\u001b[39m\u001b[38;5;124mnormalized_cov_params\u001b[39m\u001b[38;5;124m'\u001b[39m) \u001b[38;5;129;01mand\u001b[39;00m\n\u001b[0;32m    320\u001b[0m             \u001b[38;5;28mhasattr\u001b[39m(\u001b[38;5;28mself\u001b[39m, \u001b[38;5;124m'\u001b[39m\u001b[38;5;124mrank\u001b[39m\u001b[38;5;124m'\u001b[39m)):\n\u001b[1;32m--> 322\u001b[0m         \u001b[38;5;28mself\u001b[39m\u001b[38;5;241m.\u001b[39mpinv_wexog, singular_values \u001b[38;5;241m=\u001b[39m \u001b[43mpinv_extended\u001b[49m\u001b[43m(\u001b[49m\u001b[38;5;28;43mself\u001b[39;49m\u001b[38;5;241;43m.\u001b[39;49m\u001b[43mwexog\u001b[49m\u001b[43m)\u001b[49m\n\u001b[0;32m    323\u001b[0m         \u001b[38;5;28mself\u001b[39m\u001b[38;5;241m.\u001b[39mnormalized_cov_params \u001b[38;5;241m=\u001b[39m np\u001b[38;5;241m.\u001b[39mdot(\n\u001b[0;32m    324\u001b[0m             \u001b[38;5;28mself\u001b[39m\u001b[38;5;241m.\u001b[39mpinv_wexog, np\u001b[38;5;241m.\u001b[39mtranspose(\u001b[38;5;28mself\u001b[39m\u001b[38;5;241m.\u001b[39mpinv_wexog))\n\u001b[0;32m    326\u001b[0m         \u001b[38;5;66;03m# Cache these singular values for use later.\u001b[39;00m\n",
      "File \u001b[1;32m~\\anaconda3\\lib\\site-packages\\statsmodels\\tools\\tools.py:349\u001b[0m, in \u001b[0;36mpinv_extended\u001b[1;34m(x, rcond)\u001b[0m\n\u001b[0;32m    347\u001b[0m     \u001b[38;5;28;01melse\u001b[39;00m:\n\u001b[0;32m    348\u001b[0m         s[i] \u001b[38;5;241m=\u001b[39m \u001b[38;5;241m0.\u001b[39m\n\u001b[1;32m--> 349\u001b[0m res \u001b[38;5;241m=\u001b[39m \u001b[43mnp\u001b[49m\u001b[38;5;241;43m.\u001b[39;49m\u001b[43mdot\u001b[49m\u001b[43m(\u001b[49m\u001b[43mnp\u001b[49m\u001b[38;5;241;43m.\u001b[39;49m\u001b[43mtranspose\u001b[49m\u001b[43m(\u001b[49m\u001b[43mvt\u001b[49m\u001b[43m)\u001b[49m\u001b[43m,\u001b[49m\u001b[43m \u001b[49m\u001b[43mnp\u001b[49m\u001b[38;5;241;43m.\u001b[39;49m\u001b[43mmultiply\u001b[49m\u001b[43m(\u001b[49m\u001b[43ms\u001b[49m\u001b[43m[\u001b[49m\u001b[43m:\u001b[49m\u001b[43m,\u001b[49m\u001b[43m \u001b[49m\u001b[43mnp\u001b[49m\u001b[38;5;241;43m.\u001b[39;49m\u001b[43mcore\u001b[49m\u001b[38;5;241;43m.\u001b[39;49m\u001b[43mnewaxis\u001b[49m\u001b[43m]\u001b[49m\u001b[43m,\u001b[49m\n\u001b[0;32m    350\u001b[0m \u001b[43m                                           \u001b[49m\u001b[43mnp\u001b[49m\u001b[38;5;241;43m.\u001b[39;49m\u001b[43mtranspose\u001b[49m\u001b[43m(\u001b[49m\u001b[43mu\u001b[49m\u001b[43m)\u001b[49m\u001b[43m)\u001b[49m\u001b[43m)\u001b[49m\n\u001b[0;32m    351\u001b[0m \u001b[38;5;28;01mreturn\u001b[39;00m res, s_orig\n",
      "File \u001b[1;32m<__array_function__ internals>:180\u001b[0m, in \u001b[0;36mdot\u001b[1;34m(*args, **kwargs)\u001b[0m\n",
      "\u001b[1;31mMemoryError\u001b[0m: Unable to allocate 856. MiB for an array with shape (110, 1019443) and data type float64"
     ]
    }
   ],
   "source": [
    "from statsmodels.tsa.stattools import adfuller\n",
    "adfuller(clean_data[\"proton_vx_gse\"].dropna())"
   ]
  },
  {
   "cell_type": "code",
   "execution_count": 27,
   "id": "c85758f2-6215-4016-bd8c-7e3774de25bd",
   "metadata": {},
   "outputs": [],
   "source": [
    "from statsmodels.graphics.tsaplots import plot_acf , plot_pacf"
   ]
  },
  {
   "cell_type": "code",
   "execution_count": 34,
   "id": "f37db19f-23a7-4dbe-88ef-1f117ec89832",
   "metadata": {},
   "outputs": [
    {
     "data": {
      "image/png": "[encoded data removed]",
      "text/plain": [
       "<Figure size 640x480 with 1 Axes>"
      ]
     },
     "execution_count": 34,
     "metadata": {},
     "output_type": "execute_result"
    }
   ],
   "source": [
    "plot_acf(clean_data[\"proton_vx_gse\"], alpha = 0.05 )"
   ]
  },
  {
   "cell_type": "code",
   "execution_count": 36,
   "id": "cd424a18-dd49-4bc9-8931-76cd47c1a8a8",
   "metadata": {},
   "outputs": [
    {
     "data": {
      "image/png": "[encoded data removed]",
      "text/plain": [
       "<Figure size 640x480 with 1 Axes>"
      ]
     },
     "execution_count": 36,
     "metadata": {},
     "output_type": "execute_result"
    }
   ],
   "source": [
    "plot_pacf(clean_data[\"proton_vx_gse\"].diff())"
   ]
  },
  {
   "cell_type": "code",
   "execution_count": 40,
   "id": "b0f833c5-627a-47d0-aa51-9dd664572ed0",
   "metadata": {},
   "outputs": [
    {
     "name": "stderr",
     "output_type": "stream",
     "text": [
      "C:\\Users\\moaaz\\anaconda3\\lib\\site-packages\\statsmodels\\tsa\\base\\tsa_model.py:471: ValueWarning: A date index has been provided, but it has no associated frequency information and so will be ignored when e.g. forecasting.\n",
      "  self._init_dates(dates, freq)\n",
      "C:\\Users\\moaaz\\anaconda3\\lib\\site-packages\\statsmodels\\tsa\\base\\tsa_model.py:471: ValueWarning: A date index has been provided, but it has no associated frequency information and so will be ignored when e.g. forecasting.\n",
      "  self._init_dates(dates, freq)\n"
     ]
    },
    {
     "name": "stdout",
     "output_type": "stream",
     "text": [
      "AIC:  7077557.961570825\n"
     ]
    }
   ],
   "source": [
    "import statsmodels.api as sm\n",
    "model = sm.tsa.ARIMA(clean_data[\"proton_vx_gse\"].dropna(), order=(1,0,1))\n",
    "results = model.fit()\n",
    "aic=results.aic\n",
    "print('AIC: ',aic)"
   ]
  },
  {
   "cell_type": "code",
   "execution_count": 37,
   "id": "2d8e79cc-471a-4f97-97ca-645eb84cc363",
   "metadata": {},
   "outputs": [],
   "source": [
    "clean_data.to_csv(\"clean_data.csv\")"
   ]
  }
 ],
 "metadata": {
  "kernelspec": {
   "display_name": "Python [conda env:root] *",
   "language": "python",
   "name": "conda-root-py"
  },
  "language_info": {
   "codemirror_mode": {
    "name": "ipython",
    "version": 3
   },
   "file_extension": ".py",
   "mimetype": "text/x-python",
   "name": "python",
   "nbconvert_exporter": "python",
   "pygments_lexer": "ipython3",
   "version": "3.10.9"
  }
 },
 "nbformat": 4,
 "nbformat_minor": 5
}
