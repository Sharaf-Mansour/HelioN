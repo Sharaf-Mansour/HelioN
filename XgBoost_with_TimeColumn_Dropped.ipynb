{
 "cells": [
  {
   "cell_type": "code",
   "execution_count": 1,
   "id": "91bb6c30",
   "metadata": {},
   "outputs": [
    {
     "name": "stdout",
     "output_type": "stream",
     "text": [
      "                  time  proton_vx_gse  proton_vy_gse  proton_vz_gse  \\\n",
      "0  2016-07-26 00:00:00     -374.08124      19.475000      16.175000   \n",
      "1  2016-07-26 00:01:00     -373.60000      22.053333      16.660000   \n",
      "2  2016-07-26 00:02:00     -373.56876      21.312500      16.556250   \n",
      "3  2016-07-26 00:03:00     -374.10000      16.353334      16.333334   \n",
      "4  2016-07-26 00:04:00     -373.99374      20.231250      17.500000   \n",
      "\n",
      "   proton_vx_gsm  proton_vy_gsm  proton_vz_gsm  proton_speed  proton_density  \\\n",
      "0     -374.08124      20.493750      14.843750     374.95000        7.333750   \n",
      "1     -373.60000      23.113335      15.153334     374.64000        7.315333   \n",
      "2     -373.56876      22.375000      15.081250     374.53750        7.228750   \n",
      "3     -374.10000      17.413334      15.206667     374.83334        7.299333   \n",
      "4     -373.99374      21.362500      16.100000     374.96250        7.182500   \n",
      "\n",
      "   proton_temperature    K  hour  dayofweek  quarter  month  year  dayofyear  \\\n",
      "0          12563.5000  1.0     0          1        3      7  2016        208   \n",
      "1          12584.7330  1.0     0          1        3      7  2016        208   \n",
      "2          12632.7500  1.0     0          1        3      7  2016        208   \n",
      "3          12689.6000  1.0     0          1        3      7  2016        208   \n",
      "4          12478.0625  1.0     0          1        3      7  2016        208   \n",
      "\n",
      "   dayofmonth  weekofyear  \n",
      "0          26          30  \n",
      "1          26          30  \n",
      "2          26          30  \n",
      "3          26          30  \n",
      "4          26          30  \n"
     ]
    }
   ],
   "source": [
    "import pandas as pd\n",
    "\n",
    "data_path = \"C:\\\\Users\\\\OmarFCB\\\\Dropbox\\\\PC\\\\Downloads\\\\merged_with_ffill.csv\"\n",
    "data = pd.read_csv(data_path)\n",
    "\n",
    "print(data.head())\n"
   ]
  },
  {
   "cell_type": "code",
   "execution_count": 2,
   "id": "33bbd91f",
   "metadata": {},
   "outputs": [],
   "source": [
    "from sklearn.model_selection import train_test_split\n",
    "\n",
    "X = data.drop(['K', 'time'], axis=1)  # 'time' column is dropped for simplicity \n",
    "y = data['K']\n",
    "\n",
    "X_train, X_test, y_train, y_test = train_test_split(X, y, test_size=0.2, random_state=42)\n"
   ]
  },
  {
   "cell_type": "markdown",
   "id": "dab9abb1",
   "metadata": {},
   "source": [
    "import xgboost as xgb\n",
    "from sklearn.metrics import mean_squared_error\n",
    "\n",
    "dtrain = xgb.DMatrix(X_train, label=y_train)\n",
    "dtest = xgb.DMatrix(X_test, label=y_test)\n",
    "\n",
    "param = {\n",
    "    'objective': 'reg:squarederror',\n",
    "    'tree_method': 'gpu_hist',  \n",
    "    'eval_metric': 'rmse'\n",
    "}\n",
    "num_round = 100\n",
    "\n",
    "bst = xgb.train(param, dtrain, num_round, evals=[(dtest, 'test')])\n",
    "\n",
    "y_pred_xgb = bst.predict(dtest)\n",
    "\n",
    "rmse_xgb = mean_squared_error(y_test, y_pred_xgb, squared=False)\n",
    "print(f\"XGBoost GPU RMSE: {rmse_xgb}\")\n"
   ]
  },
  {
   "cell_type": "code",
   "execution_count": 4,
   "id": "b16ac680",
   "metadata": {},
   "outputs": [
    {
     "name": "stdout",
     "output_type": "stream",
     "text": [
      "Fitting 3 folds for each of 50 candidates, totalling 150 fits\n",
      "[CV] END colsample_bytree=0.7, gamma=0.1, learning_rate=0.1, max_depth=5, min_child_weight=5, reg_alpha=0.1, reg_lambda=10, subsample=0.8; total time=   5.3s\n",
      "[CV] END colsample_bytree=0.7, gamma=0.1, learning_rate=0.1, max_depth=5, min_child_weight=5, reg_alpha=0.1, reg_lambda=10, subsample=0.8; total time=   6.7s\n",
      "[CV] END colsample_bytree=0.7, gamma=0.1, learning_rate=0.1, max_depth=5, min_child_weight=5, reg_alpha=0.1, reg_lambda=10, subsample=0.8; total time=   7.9s\n",
      "[CV] END colsample_bytree=0.7, gamma=0.2, learning_rate=0.5, max_depth=5, min_child_weight=2, reg_alpha=1, reg_lambda=0.01, subsample=0.9; total time=   7.7s\n",
      "[CV] END colsample_bytree=0.7, gamma=0.2, learning_rate=0.5, max_depth=5, min_child_weight=2, reg_alpha=1, reg_lambda=0.01, subsample=0.9; total time=   7.7s\n",
      "[CV] END colsample_bytree=0.7, gamma=0.2, learning_rate=0.5, max_depth=5, min_child_weight=2, reg_alpha=1, reg_lambda=0.01, subsample=0.9; total time=   7.6s\n",
      "[CV] END colsample_bytree=0.7, gamma=0.1, learning_rate=0.5, max_depth=9, min_child_weight=6, reg_alpha=0.01, reg_lambda=1, subsample=0.6; total time=  19.7s\n",
      "[CV] END colsample_bytree=0.7, gamma=0.1, learning_rate=0.5, max_depth=9, min_child_weight=6, reg_alpha=0.01, reg_lambda=1, subsample=0.6; total time=  19.3s\n",
      "[CV] END colsample_bytree=0.7, gamma=0.1, learning_rate=0.5, max_depth=9, min_child_weight=6, reg_alpha=0.01, reg_lambda=1, subsample=0.6; total time=  19.3s\n",
      "[CV] END colsample_bytree=0.9, gamma=0.4, learning_rate=0.1, max_depth=3, min_child_weight=5, reg_alpha=0.01, reg_lambda=10, subsample=0.8; total time=   5.9s\n",
      "[CV] END colsample_bytree=0.9, gamma=0.4, learning_rate=0.1, max_depth=3, min_child_weight=5, reg_alpha=0.01, reg_lambda=10, subsample=0.8; total time=   5.8s\n",
      "[CV] END colsample_bytree=0.9, gamma=0.4, learning_rate=0.1, max_depth=3, min_child_weight=5, reg_alpha=0.01, reg_lambda=10, subsample=0.8; total time=   5.9s\n",
      "[CV] END colsample_bytree=0.8, gamma=0.3, learning_rate=0.5, max_depth=3, min_child_weight=9, reg_alpha=1, reg_lambda=10, subsample=0.8; total time=   5.8s\n",
      "[CV] END colsample_bytree=0.8, gamma=0.3, learning_rate=0.5, max_depth=3, min_child_weight=9, reg_alpha=1, reg_lambda=10, subsample=0.8; total time=   5.8s\n",
      "[CV] END colsample_bytree=0.8, gamma=0.3, learning_rate=0.5, max_depth=3, min_child_weight=9, reg_alpha=1, reg_lambda=10, subsample=0.8; total time=   5.8s\n",
      "[CV] END colsample_bytree=0.7, gamma=0.1, learning_rate=0.1, max_depth=3, min_child_weight=2, reg_alpha=1, reg_lambda=10, subsample=0.9; total time=   6.0s\n",
      "[CV] END colsample_bytree=0.7, gamma=0.1, learning_rate=0.1, max_depth=3, min_child_weight=2, reg_alpha=1, reg_lambda=10, subsample=0.9; total time=   6.2s\n",
      "[CV] END colsample_bytree=0.7, gamma=0.1, learning_rate=0.1, max_depth=3, min_child_weight=2, reg_alpha=1, reg_lambda=10, subsample=0.9; total time=   5.9s\n",
      "[CV] END colsample_bytree=0.7, gamma=0.0, learning_rate=0.5, max_depth=6, min_child_weight=5, reg_alpha=1, reg_lambda=0.1, subsample=0.6; total time=   9.1s\n",
      "[CV] END colsample_bytree=0.7, gamma=0.0, learning_rate=0.5, max_depth=6, min_child_weight=5, reg_alpha=1, reg_lambda=0.1, subsample=0.6; total time=   9.2s\n",
      "[CV] END colsample_bytree=0.7, gamma=0.0, learning_rate=0.5, max_depth=6, min_child_weight=5, reg_alpha=1, reg_lambda=0.1, subsample=0.6; total time=   9.3s\n",
      "[CV] END colsample_bytree=0.8, gamma=0.0, learning_rate=0.5, max_depth=9, min_child_weight=9, reg_alpha=10, reg_lambda=1, subsample=0.6; total time=  19.9s\n",
      "[CV] END colsample_bytree=0.8, gamma=0.0, learning_rate=0.5, max_depth=9, min_child_weight=9, reg_alpha=10, reg_lambda=1, subsample=0.6; total time=  20.5s\n",
      "[CV] END colsample_bytree=0.8, gamma=0.0, learning_rate=0.5, max_depth=9, min_child_weight=9, reg_alpha=10, reg_lambda=1, subsample=0.6; total time=  20.1s\n",
      "[CV] END colsample_bytree=0.6, gamma=0.2, learning_rate=0.5, max_depth=7, min_child_weight=9, reg_alpha=10, reg_lambda=0.01, subsample=0.8; total time=  10.9s\n",
      "[CV] END colsample_bytree=0.6, gamma=0.2, learning_rate=0.5, max_depth=7, min_child_weight=9, reg_alpha=10, reg_lambda=0.01, subsample=0.8; total time=  11.9s\n",
      "[CV] END colsample_bytree=0.6, gamma=0.2, learning_rate=0.5, max_depth=7, min_child_weight=9, reg_alpha=10, reg_lambda=0.01, subsample=0.8; total time=  11.4s\n",
      "[CV] END colsample_bytree=0.7, gamma=0.2, learning_rate=0.01, max_depth=8, min_child_weight=6, reg_alpha=0.01, reg_lambda=10, subsample=0.7; total time=  16.3s\n",
      "[CV] END colsample_bytree=0.7, gamma=0.2, learning_rate=0.01, max_depth=8, min_child_weight=6, reg_alpha=0.01, reg_lambda=10, subsample=0.7; total time=  16.2s\n",
      "[CV] END colsample_bytree=0.7, gamma=0.2, learning_rate=0.01, max_depth=8, min_child_weight=6, reg_alpha=0.01, reg_lambda=10, subsample=0.7; total time=  16.3s\n",
      "[CV] END colsample_bytree=0.6, gamma=0.4, learning_rate=0.1, max_depth=9, min_child_weight=2, reg_alpha=10, reg_lambda=10, subsample=0.8; total time=  19.0s\n",
      "[CV] END colsample_bytree=0.6, gamma=0.4, learning_rate=0.1, max_depth=9, min_child_weight=2, reg_alpha=10, reg_lambda=10, subsample=0.8; total time=  20.2s\n",
      "[CV] END colsample_bytree=0.6, gamma=0.4, learning_rate=0.1, max_depth=9, min_child_weight=2, reg_alpha=10, reg_lambda=10, subsample=0.8; total time=  20.3s\n",
      "[CV] END colsample_bytree=0.9, gamma=0.4, learning_rate=0.5, max_depth=6, min_child_weight=5, reg_alpha=1, reg_lambda=0.1, subsample=0.9; total time=   9.3s\n",
      "[CV] END colsample_bytree=0.9, gamma=0.4, learning_rate=0.5, max_depth=6, min_child_weight=5, reg_alpha=1, reg_lambda=0.1, subsample=0.9; total time=   9.1s\n",
      "[CV] END colsample_bytree=0.9, gamma=0.4, learning_rate=0.5, max_depth=6, min_child_weight=5, reg_alpha=1, reg_lambda=0.1, subsample=0.9; total time=   9.1s\n",
      "[CV] END colsample_bytree=0.7, gamma=0.4, learning_rate=0.01, max_depth=8, min_child_weight=7, reg_alpha=1e-05, reg_lambda=1e-05, subsample=0.9; total time=  16.3s\n",
      "[CV] END colsample_bytree=0.7, gamma=0.4, learning_rate=0.01, max_depth=8, min_child_weight=7, reg_alpha=1e-05, reg_lambda=1e-05, subsample=0.9; total time=  15.9s\n",
      "[CV] END colsample_bytree=0.7, gamma=0.4, learning_rate=0.01, max_depth=8, min_child_weight=7, reg_alpha=1e-05, reg_lambda=1e-05, subsample=0.9; total time=  16.3s\n",
      "[CV] END colsample_bytree=0.8, gamma=0.0, learning_rate=0.01, max_depth=5, min_child_weight=6, reg_alpha=0.01, reg_lambda=1, subsample=0.9; total time=   8.8s\n",
      "[CV] END colsample_bytree=0.8, gamma=0.0, learning_rate=0.01, max_depth=5, min_child_weight=6, reg_alpha=0.01, reg_lambda=1, subsample=0.9; total time=   8.5s\n",
      "[CV] END colsample_bytree=0.8, gamma=0.0, learning_rate=0.01, max_depth=5, min_child_weight=6, reg_alpha=0.01, reg_lambda=1, subsample=0.9; total time=   8.4s\n",
      "[CV] END colsample_bytree=0.8, gamma=0.4, learning_rate=0.5, max_depth=4, min_child_weight=1, reg_alpha=1, reg_lambda=0.01, subsample=0.9; total time=   6.6s\n",
      "[CV] END colsample_bytree=0.8, gamma=0.4, learning_rate=0.5, max_depth=4, min_child_weight=1, reg_alpha=1, reg_lambda=0.01, subsample=0.9; total time=   6.6s\n",
      "[CV] END colsample_bytree=0.8, gamma=0.4, learning_rate=0.5, max_depth=4, min_child_weight=1, reg_alpha=1, reg_lambda=0.01, subsample=0.9; total time=   6.6s\n",
      "[CV] END colsample_bytree=0.6, gamma=0.2, learning_rate=0.01, max_depth=6, min_child_weight=6, reg_alpha=10, reg_lambda=0.1, subsample=0.8; total time=   9.9s\n",
      "[CV] END colsample_bytree=0.6, gamma=0.2, learning_rate=0.01, max_depth=6, min_child_weight=6, reg_alpha=10, reg_lambda=0.1, subsample=0.8; total time=   9.9s\n",
      "[CV] END colsample_bytree=0.6, gamma=0.2, learning_rate=0.01, max_depth=6, min_child_weight=6, reg_alpha=10, reg_lambda=0.1, subsample=0.8; total time=   9.9s\n",
      "[CV] END colsample_bytree=0.9, gamma=0.2, learning_rate=0.1, max_depth=4, min_child_weight=9, reg_alpha=1, reg_lambda=0.01, subsample=0.7; total time=   6.8s\n",
      "[CV] END colsample_bytree=0.9, gamma=0.2, learning_rate=0.1, max_depth=4, min_child_weight=9, reg_alpha=1, reg_lambda=0.01, subsample=0.7; total time=   6.8s\n",
      "[CV] END colsample_bytree=0.9, gamma=0.2, learning_rate=0.1, max_depth=4, min_child_weight=9, reg_alpha=1, reg_lambda=0.01, subsample=0.7; total time=   6.8s\n",
      "[CV] END colsample_bytree=0.6, gamma=0.3, learning_rate=0.1, max_depth=5, min_child_weight=1, reg_alpha=0.01, reg_lambda=1e-05, subsample=0.6; total time=   7.8s\n"
     ]
    },
    {
     "name": "stdout",
     "output_type": "stream",
     "text": [
      "[CV] END colsample_bytree=0.6, gamma=0.3, learning_rate=0.1, max_depth=5, min_child_weight=1, reg_alpha=0.01, reg_lambda=1e-05, subsample=0.6; total time=   7.8s\n",
      "[CV] END colsample_bytree=0.6, gamma=0.3, learning_rate=0.1, max_depth=5, min_child_weight=1, reg_alpha=0.01, reg_lambda=1e-05, subsample=0.6; total time=   7.8s\n",
      "[CV] END colsample_bytree=0.8, gamma=0.3, learning_rate=0.5, max_depth=8, min_child_weight=2, reg_alpha=1e-05, reg_lambda=1, subsample=0.7; total time=  14.2s\n",
      "[CV] END colsample_bytree=0.8, gamma=0.3, learning_rate=0.5, max_depth=8, min_child_weight=2, reg_alpha=1e-05, reg_lambda=1, subsample=0.7; total time=  14.4s\n",
      "[CV] END colsample_bytree=0.8, gamma=0.3, learning_rate=0.5, max_depth=8, min_child_weight=2, reg_alpha=1e-05, reg_lambda=1, subsample=0.7; total time=  14.4s\n",
      "[CV] END colsample_bytree=0.9, gamma=0.2, learning_rate=0.01, max_depth=3, min_child_weight=6, reg_alpha=1, reg_lambda=10, subsample=0.9; total time=   6.1s\n",
      "[CV] END colsample_bytree=0.9, gamma=0.2, learning_rate=0.01, max_depth=3, min_child_weight=6, reg_alpha=1, reg_lambda=10, subsample=0.9; total time=   6.1s\n",
      "[CV] END colsample_bytree=0.9, gamma=0.2, learning_rate=0.01, max_depth=3, min_child_weight=6, reg_alpha=1, reg_lambda=10, subsample=0.9; total time=   6.2s\n",
      "[CV] END colsample_bytree=0.8, gamma=0.0, learning_rate=0.01, max_depth=8, min_child_weight=6, reg_alpha=0.01, reg_lambda=0.01, subsample=0.9; total time=  15.6s\n",
      "[CV] END colsample_bytree=0.8, gamma=0.0, learning_rate=0.01, max_depth=8, min_child_weight=6, reg_alpha=0.01, reg_lambda=0.01, subsample=0.9; total time=  15.6s\n",
      "[CV] END colsample_bytree=0.8, gamma=0.0, learning_rate=0.01, max_depth=8, min_child_weight=6, reg_alpha=0.01, reg_lambda=0.01, subsample=0.9; total time=  15.5s\n",
      "[CV] END colsample_bytree=0.9, gamma=0.2, learning_rate=0.01, max_depth=9, min_child_weight=4, reg_alpha=1, reg_lambda=0.1, subsample=0.7; total time=  19.3s\n",
      "[CV] END colsample_bytree=0.9, gamma=0.2, learning_rate=0.01, max_depth=9, min_child_weight=4, reg_alpha=1, reg_lambda=0.1, subsample=0.7; total time=  19.7s\n",
      "[CV] END colsample_bytree=0.9, gamma=0.2, learning_rate=0.01, max_depth=9, min_child_weight=4, reg_alpha=1, reg_lambda=0.1, subsample=0.7; total time=  22.0s\n",
      "[CV] END colsample_bytree=0.8, gamma=0.3, learning_rate=0.1, max_depth=3, min_child_weight=8, reg_alpha=1e-05, reg_lambda=0.1, subsample=0.7; total time=   5.8s\n",
      "[CV] END colsample_bytree=0.8, gamma=0.3, learning_rate=0.1, max_depth=3, min_child_weight=8, reg_alpha=1e-05, reg_lambda=0.1, subsample=0.7; total time=   6.1s\n",
      "[CV] END colsample_bytree=0.8, gamma=0.3, learning_rate=0.1, max_depth=3, min_child_weight=8, reg_alpha=1e-05, reg_lambda=0.1, subsample=0.7; total time=   5.8s\n",
      "[CV] END colsample_bytree=0.8, gamma=0.0, learning_rate=0.1, max_depth=7, min_child_weight=2, reg_alpha=0.1, reg_lambda=1e-05, subsample=0.7; total time=  11.0s\n",
      "[CV] END colsample_bytree=0.8, gamma=0.0, learning_rate=0.1, max_depth=7, min_child_weight=2, reg_alpha=0.1, reg_lambda=1e-05, subsample=0.7; total time=  11.1s\n",
      "[CV] END colsample_bytree=0.8, gamma=0.0, learning_rate=0.1, max_depth=7, min_child_weight=2, reg_alpha=0.1, reg_lambda=1e-05, subsample=0.7; total time=  10.9s\n",
      "[CV] END colsample_bytree=0.8, gamma=0.4, learning_rate=0.01, max_depth=6, min_child_weight=2, reg_alpha=0.1, reg_lambda=1, subsample=0.9; total time=   9.8s\n",
      "[CV] END colsample_bytree=0.8, gamma=0.4, learning_rate=0.01, max_depth=6, min_child_weight=2, reg_alpha=0.1, reg_lambda=1, subsample=0.9; total time=   9.8s\n",
      "[CV] END colsample_bytree=0.8, gamma=0.4, learning_rate=0.01, max_depth=6, min_child_weight=2, reg_alpha=0.1, reg_lambda=1, subsample=0.9; total time=  10.0s\n",
      "[CV] END colsample_bytree=0.7, gamma=0.0, learning_rate=0.1, max_depth=5, min_child_weight=8, reg_alpha=0.1, reg_lambda=1, subsample=0.9; total time=   7.7s\n",
      "[CV] END colsample_bytree=0.7, gamma=0.0, learning_rate=0.1, max_depth=5, min_child_weight=8, reg_alpha=0.1, reg_lambda=1, subsample=0.9; total time=   7.8s\n",
      "[CV] END colsample_bytree=0.7, gamma=0.0, learning_rate=0.1, max_depth=5, min_child_weight=8, reg_alpha=0.1, reg_lambda=1, subsample=0.9; total time=   7.5s\n",
      "[CV] END colsample_bytree=0.8, gamma=0.2, learning_rate=0.1, max_depth=5, min_child_weight=9, reg_alpha=10, reg_lambda=10, subsample=0.6; total time=   7.7s\n",
      "[CV] END colsample_bytree=0.8, gamma=0.2, learning_rate=0.1, max_depth=5, min_child_weight=9, reg_alpha=10, reg_lambda=10, subsample=0.6; total time=   7.5s\n",
      "[CV] END colsample_bytree=0.8, gamma=0.2, learning_rate=0.1, max_depth=5, min_child_weight=9, reg_alpha=10, reg_lambda=10, subsample=0.6; total time=   7.6s\n",
      "[CV] END colsample_bytree=0.8, gamma=0.1, learning_rate=0.01, max_depth=9, min_child_weight=9, reg_alpha=1, reg_lambda=10, subsample=0.6; total time=  20.8s\n",
      "[CV] END colsample_bytree=0.8, gamma=0.1, learning_rate=0.01, max_depth=9, min_child_weight=9, reg_alpha=1, reg_lambda=10, subsample=0.6; total time=  20.8s\n",
      "[CV] END colsample_bytree=0.8, gamma=0.1, learning_rate=0.01, max_depth=9, min_child_weight=9, reg_alpha=1, reg_lambda=10, subsample=0.6; total time=  20.9s\n",
      "[CV] END colsample_bytree=0.7, gamma=0.4, learning_rate=0.5, max_depth=5, min_child_weight=3, reg_alpha=1, reg_lambda=10, subsample=0.9; total time=   7.5s\n",
      "[CV] END colsample_bytree=0.7, gamma=0.4, learning_rate=0.5, max_depth=5, min_child_weight=3, reg_alpha=1, reg_lambda=10, subsample=0.9; total time=   7.6s\n",
      "[CV] END colsample_bytree=0.7, gamma=0.4, learning_rate=0.5, max_depth=5, min_child_weight=3, reg_alpha=1, reg_lambda=10, subsample=0.9; total time=   7.6s\n",
      "[CV] END colsample_bytree=0.9, gamma=0.3, learning_rate=0.1, max_depth=4, min_child_weight=1, reg_alpha=0.1, reg_lambda=0.1, subsample=0.7; total time=   6.7s\n",
      "[CV] END colsample_bytree=0.9, gamma=0.3, learning_rate=0.1, max_depth=4, min_child_weight=1, reg_alpha=0.1, reg_lambda=0.1, subsample=0.7; total time=   6.7s\n",
      "[CV] END colsample_bytree=0.9, gamma=0.3, learning_rate=0.1, max_depth=4, min_child_weight=1, reg_alpha=0.1, reg_lambda=0.1, subsample=0.7; total time=   6.6s\n",
      "[CV] END colsample_bytree=0.8, gamma=0.3, learning_rate=0.5, max_depth=3, min_child_weight=5, reg_alpha=10, reg_lambda=1, subsample=0.9; total time=   5.7s\n",
      "[CV] END colsample_bytree=0.8, gamma=0.3, learning_rate=0.5, max_depth=3, min_child_weight=5, reg_alpha=10, reg_lambda=1, subsample=0.9; total time=   5.7s\n",
      "[CV] END colsample_bytree=0.8, gamma=0.3, learning_rate=0.5, max_depth=3, min_child_weight=5, reg_alpha=10, reg_lambda=1, subsample=0.9; total time=   5.6s\n",
      "[CV] END colsample_bytree=0.7, gamma=0.3, learning_rate=0.01, max_depth=9, min_child_weight=2, reg_alpha=0.01, reg_lambda=0.1, subsample=0.8; total time=  20.9s\n",
      "[CV] END colsample_bytree=0.7, gamma=0.3, learning_rate=0.01, max_depth=9, min_child_weight=2, reg_alpha=0.01, reg_lambda=0.1, subsample=0.8; total time=  20.7s\n",
      "[CV] END colsample_bytree=0.7, gamma=0.3, learning_rate=0.01, max_depth=9, min_child_weight=2, reg_alpha=0.01, reg_lambda=0.1, subsample=0.8; total time=  20.7s\n",
      "[CV] END colsample_bytree=0.9, gamma=0.3, learning_rate=0.1, max_depth=3, min_child_weight=2, reg_alpha=0.01, reg_lambda=1e-05, subsample=0.8; total time=   5.7s\n",
      "[CV] END colsample_bytree=0.9, gamma=0.3, learning_rate=0.1, max_depth=3, min_child_weight=2, reg_alpha=0.01, reg_lambda=1e-05, subsample=0.8; total time=   5.9s\n",
      "[CV] END colsample_bytree=0.9, gamma=0.3, learning_rate=0.1, max_depth=3, min_child_weight=2, reg_alpha=0.01, reg_lambda=1e-05, subsample=0.8; total time=   5.7s\n",
      "[CV] END colsample_bytree=0.7, gamma=0.2, learning_rate=0.5, max_depth=8, min_child_weight=2, reg_alpha=1e-05, reg_lambda=1e-05, subsample=0.9; total time=  13.9s\n",
      "[CV] END colsample_bytree=0.7, gamma=0.2, learning_rate=0.5, max_depth=8, min_child_weight=2, reg_alpha=1e-05, reg_lambda=1e-05, subsample=0.9; total time=  14.0s\n",
      "[CV] END colsample_bytree=0.7, gamma=0.2, learning_rate=0.5, max_depth=8, min_child_weight=2, reg_alpha=1e-05, reg_lambda=1e-05, subsample=0.9; total time=  13.8s\n",
      "[CV] END colsample_bytree=0.7, gamma=0.1, learning_rate=0.5, max_depth=8, min_child_weight=1, reg_alpha=0.01, reg_lambda=1e-05, subsample=0.9; total time=  14.0s\n",
      "[CV] END colsample_bytree=0.7, gamma=0.1, learning_rate=0.5, max_depth=8, min_child_weight=1, reg_alpha=0.01, reg_lambda=1e-05, subsample=0.9; total time=  13.9s\n"
     ]
    },
    {
     "name": "stdout",
     "output_type": "stream",
     "text": [
      "[CV] END colsample_bytree=0.7, gamma=0.1, learning_rate=0.5, max_depth=8, min_child_weight=1, reg_alpha=0.01, reg_lambda=1e-05, subsample=0.9; total time=  14.0s\n",
      "[CV] END colsample_bytree=0.6, gamma=0.0, learning_rate=0.01, max_depth=6, min_child_weight=1, reg_alpha=0.1, reg_lambda=0.01, subsample=0.9; total time=   9.7s\n",
      "[CV] END colsample_bytree=0.6, gamma=0.0, learning_rate=0.01, max_depth=6, min_child_weight=1, reg_alpha=0.1, reg_lambda=0.01, subsample=0.9; total time=   9.7s\n",
      "[CV] END colsample_bytree=0.6, gamma=0.0, learning_rate=0.01, max_depth=6, min_child_weight=1, reg_alpha=0.1, reg_lambda=0.01, subsample=0.9; total time=   9.7s\n",
      "[CV] END colsample_bytree=0.7, gamma=0.1, learning_rate=0.1, max_depth=7, min_child_weight=6, reg_alpha=0.1, reg_lambda=1, subsample=0.9; total time=  11.0s\n",
      "[CV] END colsample_bytree=0.7, gamma=0.1, learning_rate=0.1, max_depth=7, min_child_weight=6, reg_alpha=0.1, reg_lambda=1, subsample=0.9; total time=  11.0s\n",
      "[CV] END colsample_bytree=0.7, gamma=0.1, learning_rate=0.1, max_depth=7, min_child_weight=6, reg_alpha=0.1, reg_lambda=1, subsample=0.9; total time=  10.9s\n",
      "[CV] END colsample_bytree=0.6, gamma=0.3, learning_rate=0.1, max_depth=6, min_child_weight=1, reg_alpha=0.01, reg_lambda=0.01, subsample=0.7; total time=   9.1s\n",
      "[CV] END colsample_bytree=0.6, gamma=0.3, learning_rate=0.1, max_depth=6, min_child_weight=1, reg_alpha=0.01, reg_lambda=0.01, subsample=0.7; total time=   9.0s\n",
      "[CV] END colsample_bytree=0.6, gamma=0.3, learning_rate=0.1, max_depth=6, min_child_weight=1, reg_alpha=0.01, reg_lambda=0.01, subsample=0.7; total time=   8.9s\n",
      "[CV] END colsample_bytree=0.7, gamma=0.1, learning_rate=0.5, max_depth=7, min_child_weight=4, reg_alpha=10, reg_lambda=1e-05, subsample=0.7; total time=  10.9s\n",
      "[CV] END colsample_bytree=0.7, gamma=0.1, learning_rate=0.5, max_depth=7, min_child_weight=4, reg_alpha=10, reg_lambda=1e-05, subsample=0.7; total time=  10.7s\n",
      "[CV] END colsample_bytree=0.7, gamma=0.1, learning_rate=0.5, max_depth=7, min_child_weight=4, reg_alpha=10, reg_lambda=1e-05, subsample=0.7; total time=  10.9s\n",
      "[CV] END colsample_bytree=0.6, gamma=0.4, learning_rate=0.1, max_depth=6, min_child_weight=1, reg_alpha=0.1, reg_lambda=1, subsample=0.8; total time=   9.0s\n",
      "[CV] END colsample_bytree=0.6, gamma=0.4, learning_rate=0.1, max_depth=6, min_child_weight=1, reg_alpha=0.1, reg_lambda=1, subsample=0.8; total time=   9.0s\n",
      "[CV] END colsample_bytree=0.6, gamma=0.4, learning_rate=0.1, max_depth=6, min_child_weight=1, reg_alpha=0.1, reg_lambda=1, subsample=0.8; total time=   9.0s\n",
      "[CV] END colsample_bytree=0.6, gamma=0.3, learning_rate=0.1, max_depth=7, min_child_weight=9, reg_alpha=0.01, reg_lambda=1, subsample=0.9; total time=  11.0s\n",
      "[CV] END colsample_bytree=0.6, gamma=0.3, learning_rate=0.1, max_depth=7, min_child_weight=9, reg_alpha=0.01, reg_lambda=1, subsample=0.9; total time=  10.8s\n",
      "[CV] END colsample_bytree=0.6, gamma=0.3, learning_rate=0.1, max_depth=7, min_child_weight=9, reg_alpha=0.01, reg_lambda=1, subsample=0.9; total time=  10.8s\n",
      "[CV] END colsample_bytree=0.9, gamma=0.1, learning_rate=0.5, max_depth=7, min_child_weight=5, reg_alpha=0.01, reg_lambda=0.1, subsample=0.8; total time=  10.8s\n",
      "[CV] END colsample_bytree=0.9, gamma=0.1, learning_rate=0.5, max_depth=7, min_child_weight=5, reg_alpha=0.01, reg_lambda=0.1, subsample=0.8; total time=  10.9s\n",
      "[CV] END colsample_bytree=0.9, gamma=0.1, learning_rate=0.5, max_depth=7, min_child_weight=5, reg_alpha=0.01, reg_lambda=0.1, subsample=0.8; total time=  10.8s\n",
      "[CV] END colsample_bytree=0.9, gamma=0.2, learning_rate=0.1, max_depth=4, min_child_weight=5, reg_alpha=0.1, reg_lambda=0.01, subsample=0.9; total time=   6.5s\n",
      "[CV] END colsample_bytree=0.9, gamma=0.2, learning_rate=0.1, max_depth=4, min_child_weight=5, reg_alpha=0.1, reg_lambda=0.01, subsample=0.9; total time=   6.6s\n",
      "[CV] END colsample_bytree=0.9, gamma=0.2, learning_rate=0.1, max_depth=4, min_child_weight=5, reg_alpha=0.1, reg_lambda=0.01, subsample=0.9; total time=   6.5s\n",
      "[CV] END colsample_bytree=0.6, gamma=0.1, learning_rate=0.5, max_depth=3, min_child_weight=1, reg_alpha=0.1, reg_lambda=0.1, subsample=0.9; total time=   5.6s\n",
      "[CV] END colsample_bytree=0.6, gamma=0.1, learning_rate=0.5, max_depth=3, min_child_weight=1, reg_alpha=0.1, reg_lambda=0.1, subsample=0.9; total time=   5.7s\n",
      "[CV] END colsample_bytree=0.6, gamma=0.1, learning_rate=0.5, max_depth=3, min_child_weight=1, reg_alpha=0.1, reg_lambda=0.1, subsample=0.9; total time=   5.6s\n",
      "[CV] END colsample_bytree=0.8, gamma=0.4, learning_rate=0.1, max_depth=5, min_child_weight=9, reg_alpha=0.01, reg_lambda=10, subsample=0.8; total time=   7.7s\n",
      "[CV] END colsample_bytree=0.8, gamma=0.4, learning_rate=0.1, max_depth=5, min_child_weight=9, reg_alpha=0.01, reg_lambda=10, subsample=0.8; total time=   7.8s\n",
      "[CV] END colsample_bytree=0.8, gamma=0.4, learning_rate=0.1, max_depth=5, min_child_weight=9, reg_alpha=0.01, reg_lambda=10, subsample=0.8; total time=   7.7s\n",
      "[CV] END colsample_bytree=0.9, gamma=0.2, learning_rate=0.1, max_depth=7, min_child_weight=1, reg_alpha=0.01, reg_lambda=10, subsample=0.6; total time=  10.9s\n",
      "[CV] END colsample_bytree=0.9, gamma=0.2, learning_rate=0.1, max_depth=7, min_child_weight=1, reg_alpha=0.01, reg_lambda=10, subsample=0.6; total time=  11.0s\n",
      "[CV] END colsample_bytree=0.9, gamma=0.2, learning_rate=0.1, max_depth=7, min_child_weight=1, reg_alpha=0.01, reg_lambda=10, subsample=0.6; total time=  11.0s\n",
      "[CV] END colsample_bytree=0.6, gamma=0.0, learning_rate=0.01, max_depth=7, min_child_weight=3, reg_alpha=10, reg_lambda=0.1, subsample=0.8; total time=  11.7s\n",
      "[CV] END colsample_bytree=0.6, gamma=0.0, learning_rate=0.01, max_depth=7, min_child_weight=3, reg_alpha=10, reg_lambda=0.1, subsample=0.8; total time=  11.6s\n",
      "[CV] END colsample_bytree=0.6, gamma=0.0, learning_rate=0.01, max_depth=7, min_child_weight=3, reg_alpha=10, reg_lambda=0.1, subsample=0.8; total time=  11.7s\n",
      "[CV] END colsample_bytree=0.6, gamma=0.2, learning_rate=0.01, max_depth=7, min_child_weight=3, reg_alpha=1e-05, reg_lambda=0.01, subsample=0.8; total time=  11.6s\n",
      "[CV] END colsample_bytree=0.6, gamma=0.2, learning_rate=0.01, max_depth=7, min_child_weight=3, reg_alpha=1e-05, reg_lambda=0.01, subsample=0.8; total time=  11.6s\n",
      "[CV] END colsample_bytree=0.6, gamma=0.2, learning_rate=0.01, max_depth=7, min_child_weight=3, reg_alpha=1e-05, reg_lambda=0.01, subsample=0.8; total time=  11.6s\n",
      "[CV] END colsample_bytree=0.8, gamma=0.3, learning_rate=0.1, max_depth=8, min_child_weight=4, reg_alpha=0.1, reg_lambda=1e-05, subsample=0.6; total time=  14.0s\n",
      "[CV] END colsample_bytree=0.8, gamma=0.3, learning_rate=0.1, max_depth=8, min_child_weight=4, reg_alpha=0.1, reg_lambda=1e-05, subsample=0.6; total time=  14.1s\n",
      "[CV] END colsample_bytree=0.8, gamma=0.3, learning_rate=0.1, max_depth=8, min_child_weight=4, reg_alpha=0.1, reg_lambda=1e-05, subsample=0.6; total time=  14.0s\n",
      "[CV] END colsample_bytree=0.9, gamma=0.3, learning_rate=0.1, max_depth=6, min_child_weight=3, reg_alpha=0.1, reg_lambda=10, subsample=0.7; total time=   9.0s\n",
      "[CV] END colsample_bytree=0.9, gamma=0.3, learning_rate=0.1, max_depth=6, min_child_weight=3, reg_alpha=0.1, reg_lambda=10, subsample=0.7; total time=   9.0s\n",
      "[CV] END colsample_bytree=0.9, gamma=0.3, learning_rate=0.1, max_depth=6, min_child_weight=3, reg_alpha=0.1, reg_lambda=10, subsample=0.7; total time=   9.0s\n",
      "{'subsample': 0.6, 'reg_lambda': 1, 'reg_alpha': 10, 'min_child_weight': 9, 'max_depth': 9, 'learning_rate': 0.5, 'gamma': 0.0, 'colsample_bytree': 0.8}\n"
     ]
    }
   ],
   "source": [
    "from sklearn.model_selection import RandomizedSearchCV\n",
    "import numpy as np\n",
    "import xgboost as xgb\n",
    "from sklearn.metrics import mean_squared_error\n",
    "\n",
    "\n",
    "param_dist = {\n",
    "    'learning_rate': [0.01, 0.1, 0.5],\n",
    "    'max_depth': np.arange(3, 10, 1),\n",
    "    'min_child_weight': np.arange(1, 10, 1),\n",
    "    'gamma': [i/10.0 for i in range(0,5)],\n",
    "    'subsample': [i/10.0 for i in range(6,10)],\n",
    "    'colsample_bytree': [i/10.0 for i in range(6,10)],\n",
    "    'reg_lambda': [1e-5, 1e-2, 0.1, 1, 10],\n",
    "    'reg_alpha': [1e-5, 1e-2, 0.1, 1, 10]\n",
    "}\n",
    "\n",
    "model = xgb.XGBRegressor(tree_method='gpu_hist', gpu_id=0, predictor='gpu_predictor')\n",
    "\n",
    "random_search = RandomizedSearchCV(model, param_distributions=param_dist, scoring='neg_mean_squared_error', n_iter=50, cv=3, verbose=2, random_state=42, n_jobs=1)\n",
    "\n",
    "random_search.fit(X_train, y_train)\n",
    "\n",
    "print(random_search.best_params_)\n"
   ]
  },
  {
   "cell_type": "code",
   "execution_count": 5,
   "id": "450032b1",
   "metadata": {},
   "outputs": [
    {
     "data": {
      "text/plain": [
       "{'subsample': 0.6,\n",
       " 'reg_lambda': 1,\n",
       " 'reg_alpha': 10,\n",
       " 'min_child_weight': 9,\n",
       " 'max_depth': 9,\n",
       " 'learning_rate': 0.5,\n",
       " 'gamma': 0.0,\n",
       " 'colsample_bytree': 0.8}"
      ]
     },
     "execution_count": 5,
     "metadata": {},
     "output_type": "execute_result"
    }
   ],
   "source": [
    "random_search.best_params_"
   ]
  },
  {
   "cell_type": "code",
   "execution_count": 6,
   "id": "9e166319",
   "metadata": {},
   "outputs": [
    {
     "data": {
      "text/plain": [
       "XGBRegressor(base_score=0.5, booster='gbtree', callbacks=None,\n",
       "             colsample_bylevel=1, colsample_bynode=1, colsample_bytree=0.8,\n",
       "             early_stopping_rounds=None, enable_categorical=False,\n",
       "             eval_metric=None, gamma=0.0, gpu_id=0, grow_policy='depthwise',\n",
       "             importance_type=None, interaction_constraints='',\n",
       "             learning_rate=0.5, max_bin=256, max_cat_to_onehot=4,\n",
       "             max_delta_step=0, max_depth=9, max_leaves=0, min_child_weight=9,\n",
       "             missing=nan, monotone_constraints='()', n_estimators=100, n_jobs=0,\n",
       "             num_parallel_tree=1, predictor='gpu_predictor', random_state=0,\n",
       "             reg_alpha=10, reg_lambda=1, ...)"
      ]
     },
     "execution_count": 6,
     "metadata": {},
     "output_type": "execute_result"
    }
   ],
   "source": [
    "best_params = random_search.best_params_\n",
    "best_xgb_model = xgb.XGBRegressor(**best_params, tree_method='gpu_hist', gpu_id=0, predictor='gpu_predictor')\n",
    "best_xgb_model.fit(X_train, y_train)\n"
   ]
  },
  {
   "cell_type": "code",
   "execution_count": 7,
   "id": "f72df952",
   "metadata": {},
   "outputs": [],
   "source": [
    "y_pred_best = best_xgb_model.predict(X_test)\n"
   ]
  },
  {
   "cell_type": "code",
   "execution_count": 8,
   "id": "71a4596a",
   "metadata": {},
   "outputs": [
    {
     "name": "stdout",
     "output_type": "stream",
     "text": [
      "RMSE with Best Hyperparameters: 0.4117276355840797\n"
     ]
    }
   ],
   "source": [
    "from sklearn.metrics import mean_squared_error\n",
    "\n",
    "rmse_best = mean_squared_error(y_test, y_pred_best, squared=False)\n",
    "print(f\"RMSE with Best Hyperparameters: {rmse_best}\")\n"
   ]
  },
  {
   "cell_type": "code",
   "execution_count": 9,
   "id": "e847217a",
   "metadata": {},
   "outputs": [
    {
     "name": "stdout",
     "output_type": "stream",
     "text": [
      "1\n"
     ]
    }
   ],
   "source": [
    "print(1)\n"
   ]
  },
  {
   "cell_type": "code",
   "execution_count": 14,
   "id": "0f758486",
   "metadata": {},
   "outputs": [
    {
     "data": {
      "text/plain": [
       "XGBRegressor(base_score=0.5, booster='gbtree', callbacks=None,\n",
       "             colsample_bylevel=1, colsample_bynode=1, colsample_bytree=0.8,\n",
       "             early_stopping_rounds=None, enable_categorical=False,\n",
       "             eval_metric=None, gamma=0.0, gpu_id=0, grow_policy='depthwise',\n",
       "             importance_type=None, interaction_constraints='',\n",
       "             learning_rate=0.5, max_bin=256, max_cat_to_onehot=4,\n",
       "             max_delta_step=0, max_depth=9, max_leaves=0, min_child_weight=9,\n",
       "             missing=nan, monotone_constraints='()', n_estimators=100, n_jobs=0,\n",
       "             num_parallel_tree=1, predictor='gpu_predictor', random_state=0,\n",
       "             reg_alpha=10, reg_lambda=1, ...)"
      ]
     },
     "execution_count": 14,
     "metadata": {},
     "output_type": "execute_result"
    }
   ],
   "source": [
    "best_xgb_model = xgb.XGBRegressor(**best_params, tree_method='gpu_hist', gpu_id=0, predictor='gpu_predictor')\n",
    "best_xgb_model.fit(X_train, y_train)\n"
   ]
  },
  {
   "cell_type": "code",
   "execution_count": 16,
   "id": "9523f4e1",
   "metadata": {},
   "outputs": [
    {
     "name": "stdout",
     "output_type": "stream",
     "text": [
      "RMSE with Best Hyperparameters: 0.4117276355840797\n"
     ]
    }
   ],
   "source": [
    "y_pred_best = best_xgb_model.predict(X_test)\n",
    "from sklearn.metrics import mean_squared_error\n",
    "\n",
    "rmse_best = mean_squared_error(y_test, y_pred_best, squared=False)\n",
    "print(f\"RMSE with Best Hyperparameters: {rmse_best}\")\n"
   ]
  },
  {
   "cell_type": "code",
   "execution_count": 17,
   "id": "3bd496fe",
   "metadata": {},
   "outputs": [
    {
     "name": "stderr",
     "output_type": "stream",
     "text": [
      "C:\\Users\\OmarFCB\\anaconda3\\lib\\site-packages\\xgboost\\sklearn.py:722: UserWarning: max_depth is not saved in Scikit-Learn meta.\n",
      "  warnings.warn(str(k) + ' is not saved in Scikit-Learn meta.', UserWarning)\n",
      "C:\\Users\\OmarFCB\\anaconda3\\lib\\site-packages\\xgboost\\sklearn.py:722: UserWarning: min_child_weight is not saved in Scikit-Learn meta.\n",
      "  warnings.warn(str(k) + ' is not saved in Scikit-Learn meta.', UserWarning)\n"
     ]
    }
   ],
   "source": [
    "best_xgb_model.save_model('model.xgb')\n"
   ]
  },
  {
   "cell_type": "code",
   "execution_count": 18,
   "id": "d200e1d1",
   "metadata": {},
   "outputs": [],
   "source": [
    "import xgboost as xgb\n",
    "loaded_model = xgb.XGBRegressor()\n",
    "loaded_model.load_model('model.xgb')\n"
   ]
  },
  {
   "cell_type": "code",
   "execution_count": 21,
   "id": "09ef0734",
   "metadata": {},
   "outputs": [],
   "source": [
    "import pickle\n",
    "with open('xg.pkl', 'wb') as f:\n",
    "    pickle.dump(best_xgb_model, f)\n"
   ]
  },
  {
   "cell_type": "code",
   "execution_count": 1,
   "id": "1dd2d1e0",
   "metadata": {},
   "outputs": [
    {
     "ename": "NameError",
     "evalue": "name 'data' is not defined",
     "output_type": "error",
     "traceback": [
      "\u001b[1;31m---------------------------------------------------------------------------\u001b[0m",
      "\u001b[1;31mNameError\u001b[0m                                 Traceback (most recent call last)",
      "Input \u001b[1;32mIn [1]\u001b[0m, in \u001b[0;36m<cell line: 1>\u001b[1;34m()\u001b[0m\n\u001b[1;32m----> 1\u001b[0m \u001b[43mdata\u001b[49m\n",
      "\u001b[1;31mNameError\u001b[0m: name 'data' is not defined"
     ]
    }
   ],
   "source": [
    "data"
   ]
  },
  {
   "cell_type": "code",
   "execution_count": null,
   "id": "bb0ed8cd",
   "metadata": {},
   "outputs": [],
   "source": []
  }
 ],
 "metadata": {
  "kernelspec": {
   "display_name": "Python 3 (ipykernel)",
   "language": "python",
   "name": "python3"
  },
  "language_info": {
   "codemirror_mode": {
    "name": "ipython",
    "version": 3
   },
   "file_extension": ".py",
   "mimetype": "text/x-python",
   "name": "python",
   "nbconvert_exporter": "python",
   "pygments_lexer": "ipython3",
   "version": "3.9.12"
  }
 },
 "nbformat": 4,
 "nbformat_minor": 5
}
